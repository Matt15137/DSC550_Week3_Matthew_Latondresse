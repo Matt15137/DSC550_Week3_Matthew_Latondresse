{
 "cells": [
  {
   "cell_type": "code",
   "execution_count": 25,
   "id": "f805967e",
   "metadata": {},
   "outputs": [
    {
     "name": "stderr",
     "output_type": "stream",
     "text": [
      "[nltk_data] Downloading package stopwords to\n",
      "[nltk_data]     C:\\Users\\mattl\\AppData\\Roaming\\nltk_data...\n",
      "[nltk_data]   Package stopwords is already up-to-date!\n",
      "[nltk_data] Downloading package vader_lexicon to\n",
      "[nltk_data]     C:\\Users\\mattl\\AppData\\Roaming\\nltk_data...\n",
      "[nltk_data]   Package vader_lexicon is already up-to-date!\n"
     ]
    },
    {
     "data": {
      "text/plain": [
       "True"
      ]
     },
     "execution_count": 25,
     "metadata": {},
     "output_type": "execute_result"
    }
   ],
   "source": [
    "import pandas as pd\n",
    "import nltk\n",
    "import string\n",
    "from textblob import TextBlob\n",
    "from sklearn.metrics import accuracy_score\n",
    "from sklearn.model_selection import train_test_split\n",
    "from nltk.sentiment.vader import SentimentIntensityAnalyzer\n",
    "from nltk.corpus import stopwords\n",
    "nltk.download('stopwords')\n",
    "nltk.download('vader_lexicon')"
   ]
  },
  {
   "cell_type": "code",
   "execution_count": 26,
   "id": "e342bbce",
   "metadata": {},
   "outputs": [
    {
     "name": "stdout",
     "output_type": "stream",
     "text": [
      "       id  sentiment                                             review\n",
      "0  5814_8          1  With all this stuff going down at the moment w...\n",
      "1  2381_9          1  \\The Classic War of the Worlds\\\" by Timothy Hi...\n",
      "2  7759_3          0  The film starts with a manager (Nicholas Bell)...\n",
      "3  3630_4          0  It must be assumed that those who praised this...\n",
      "4  9495_8          1  Superbly trashy and wondrously unpretentious 8...\n"
     ]
    }
   ],
   "source": [
    "#Creating the Data Frame\n",
    "file_path = 'C:/Users/mattl/OneDrive/Documents/GitHub/DSC550/labeledTrainData.tsv'\n",
    "df = pd.read_csv(file_path, sep='\\t')\n",
    "\n",
    "print(df.head())"
   ]
  },
  {
   "cell_type": "code",
   "execution_count": 27,
   "id": "09117f6b",
   "metadata": {},
   "outputs": [
    {
     "name": "stdout",
     "output_type": "stream",
     "text": [
      "Number of Positive Reviews: 19017\n",
      "Number of Negative Reviews: 5983\n"
     ]
    }
   ],
   "source": [
    "#Using Text Blob to get the number of Positive and Negative Reviews\n",
    "positive_reviews = df[df['review'].apply(lambda x: TextBlob(x).sentiment.polarity >= 0)]\n",
    "negative_reviews = df[df['review'].apply(lambda x: TextBlob(x).sentiment.polarity < 0)]\n",
    "\n",
    "print(f\"Number of Positive Reviews: {len(positive_reviews)}\")\n",
    "print(f\"Number of Negative Reviews: {len(negative_reviews)}\")\n"
   ]
  },
  {
   "cell_type": "code",
   "execution_count": 28,
   "id": "e2aee2fe",
   "metadata": {},
   "outputs": [
    {
     "name": "stdout",
     "output_type": "stream",
     "text": [
      "Accuracy of TextBlob Model: 0.69\n",
      "This model is more accurate then randomly guessing\n"
     ]
    }
   ],
   "source": [
    "# Split the dataset into a training set (80%) and a test set (20%)\n",
    "X_train, X_test, y_train, y_test = train_test_split(df['review'], df['sentiment'], test_size=0.2, random_state=42)\n",
    "\n",
    "# Define a function to classify using TextBlob and convert polarity to sentiment label\n",
    "def classify_sentiment(text):\n",
    "    polarity = TextBlob(text).sentiment.polarity\n",
    "    if polarity >= 0:\n",
    "        return 'positive'\n",
    "    else:\n",
    "        return 'negative'\n",
    "\n",
    "# Apply TextBlob's sentiment analysis to the test set\n",
    "y_pred = X_test.apply(classify_sentiment)\n",
    "\n",
    "# Convert numerical labels to strings in y_test for accurate comparison\n",
    "y_test = y_test.map({0: 'negative', 1: 'positive'})\n",
    "\n",
    "# Calculate accuracy\n",
    "accuracy = accuracy_score(y_test, y_pred)\n",
    "\n",
    "print(f\"Accuracy of TextBlob Model: {accuracy:.2f}\")\n",
    "print(f\"This model is more accurate then randomly guessing\")"
   ]
  },
  {
   "cell_type": "code",
   "execution_count": null,
   "id": "54310948",
   "metadata": {},
   "outputs": [],
   "source": []
  },
  {
   "cell_type": "code",
   "execution_count": 34,
   "id": "4623a74d",
   "metadata": {},
   "outputs": [
    {
     "name": "stdout",
     "output_type": "stream",
     "text": [
      "Accuracy of the VADER model: 0.69\n",
      "This model is more accurate then randomly guessing.\n"
     ]
    }
   ],
   "source": [
    "# Define a function to classify using VADER and convert compound score to sentiment label\n",
    "def classify_sentiment_vader(text):\n",
    "    analyzer = SentimentIntensityAnalyzer()\n",
    "    sentiment_score = analyzer.polarity_scores(text)\n",
    "    if sentiment_score['compound'] >= 0:\n",
    "        return 'positive'\n",
    "    else:\n",
    "        return 'negative'\n",
    "\n",
    "# Apply VADER's sentiment analysis to the entire dataset\n",
    "df['predicted_sentiment_vader'] = df['review'].apply(classify_sentiment_vader)\n",
    "\n",
    "# Convert numerical labels to strings in y_test for accurate comparison\n",
    "y_test = df['sentiment'].map({0: 'negative', 1: 'positive'})\n",
    "\n",
    "# Calculate accuracy for VADER Model\n",
    "accuracy_vader = accuracy_score(y_test, df['predicted_sentiment_vader'])\n",
    "\n",
    "print(f\"Accuracy of the VADER model: {accuracy_vader:.2f}\")\n",
    "print(f\"This model is more accurate then randomly guessing.\")"
   ]
  },
  {
   "cell_type": "code",
   "execution_count": null,
   "id": "83e3a578",
   "metadata": {},
   "outputs": [],
   "source": []
  },
  {
   "cell_type": "code",
   "execution_count": 6,
   "id": "df86b167",
   "metadata": {},
   "outputs": [],
   "source": [
    "#Part 2\n",
    "df['review'] = df['review'].str.lower()"
   ]
  },
  {
   "cell_type": "code",
   "execution_count": 7,
   "id": "fc969afb",
   "metadata": {},
   "outputs": [],
   "source": [
    "#Removing Punctuation\n",
    "def remove_punctuation(text):\n",
    "    return ''.join([char for char in text if char not in string.punctuation])\n",
    "\n",
    "df['review'] = df['review'].apply(remove_punctuation)"
   ]
  },
  {
   "cell_type": "code",
   "execution_count": 8,
   "id": "6e41076f",
   "metadata": {},
   "outputs": [],
   "source": [
    "#Utilizing Stop Words\n",
    "stop_words = set(stopwords.words('english'))\n",
    "\n",
    "def remove_stopwords(text):\n",
    "    words = text.split()\n",
    "    return ' '.join([word for word in words if word not in stop_words])\n",
    "\n",
    "df['review'] = df['review'].apply(remove_stopwords)"
   ]
  },
  {
   "cell_type": "code",
   "execution_count": 9,
   "id": "09265822",
   "metadata": {},
   "outputs": [],
   "source": [
    "from nltk.stem import PorterStemmer\n",
    "\n",
    "#Apply Porter Stemmer\n",
    "stemmer = PorterStemmer()\n",
    "\n",
    "def apply_stemming(text):\n",
    "    words = text.split()\n",
    "    return ' '.join([stemmer.stem(word) for word in words])\n",
    "\n",
    "df['review'] = df['review'].apply(apply_stemming)"
   ]
  },
  {
   "cell_type": "code",
   "execution_count": 21,
   "id": "9d276abd",
   "metadata": {},
   "outputs": [
    {
     "name": "stdout",
     "output_type": "stream",
     "text": [
      "Bag of Words Matrix Dimensions: (25000, 74849)\n"
     ]
    }
   ],
   "source": [
    "from sklearn.feature_extraction.text import CountVectorizer, TfidfVectorizer\n",
    "\n",
    "# Bag of Words (Count Vectorizer)\n",
    "count_vectorizer = CountVectorizer()\n",
    "bow_matrix = count_vectorizer.fit_transform(df['review'])\n",
    "print(f\"Bag of Words Matrix Dimensions: {bow_matrix.shape}\")\n",
    "\n"
   ]
  },
  {
   "cell_type": "code",
   "execution_count": 22,
   "id": "63419923",
   "metadata": {},
   "outputs": [
    {
     "name": "stdout",
     "output_type": "stream",
     "text": [
      "TF-IDF Matrix Dimensions: (25000, 74849)\n"
     ]
    }
   ],
   "source": [
    "# TF-IDF Vectorizer\n",
    "tfidf_vectorizer = TfidfVectorizer()\n",
    "tfidf_matrix = tfidf_vectorizer.fit_transform(df['review'])\n",
    "print(f\"TF-IDF Matrix Dimensions: {tfidf_matrix.shape}\")"
   ]
  },
  {
   "cell_type": "code",
   "execution_count": null,
   "id": "8cdb8460",
   "metadata": {},
   "outputs": [],
   "source": []
  }
 ],
 "metadata": {
  "kernelspec": {
   "display_name": "Python 3 (ipykernel)",
   "language": "python",
   "name": "python3"
  },
  "language_info": {
   "codemirror_mode": {
    "name": "ipython",
    "version": 3
   },
   "file_extension": ".py",
   "mimetype": "text/x-python",
   "name": "python",
   "nbconvert_exporter": "python",
   "pygments_lexer": "ipython3",
   "version": "3.10.9"
  }
 },
 "nbformat": 4,
 "nbformat_minor": 5
}
